{
  "cells": [
    {
      "cell_type": "markdown",
      "id": "4fec17f1",
      "metadata": {
        "papermill": {
          "duration": 0.015294,
          "end_time": "2022-06-27T14:39:54.724756",
          "exception": false,
          "start_time": "2022-06-27T14:39:54.709462",
          "status": "completed"
        },
        "tags": [],
        "id": "4fec17f1"
      },
      "source": [
        "# Semantic Search Project \n",
        "\n",
        "## Finding hot keywords using feature extraction methods\n",
        "-------------------\n",
        "*By Fady Shehata*\n",
        "\n",
        "\n"
      ]
    },
    {
      "cell_type": "code",
      "execution_count": 48,
      "id": "e343398d",
      "metadata": {
        "execution": {
          "iopub.execute_input": "2022-06-27T14:39:54.755021Z",
          "iopub.status.busy": "2022-06-27T14:39:54.754341Z",
          "iopub.status.idle": "2022-06-27T14:39:56.725925Z",
          "shell.execute_reply": "2022-06-27T14:39:56.721917Z"
        },
        "papermill": {
          "duration": 1.991427,
          "end_time": "2022-06-27T14:39:56.729565",
          "exception": false,
          "start_time": "2022-06-27T14:39:54.738138",
          "status": "completed"
        },
        "tags": [],
        "colab": {
          "base_uri": "https://localhost:8080/"
        },
        "id": "e343398d",
        "outputId": "b94494de-6ec6-4c24-d3d7-55b491f497e3"
      },
      "outputs": [
        {
          "output_type": "stream",
          "name": "stderr",
          "text": [
            "[nltk_data] Downloading package stopwords to /root/nltk_data...\n",
            "[nltk_data]   Package stopwords is already up-to-date!\n",
            "[nltk_data] Downloading package punkt to /root/nltk_data...\n",
            "[nltk_data]   Package punkt is already up-to-date!\n",
            "[nltk_data] Downloading package wordnet to /root/nltk_data...\n",
            "[nltk_data]   Package wordnet is already up-to-date!\n",
            "[nltk_data] Downloading package omw-1.4 to /root/nltk_data...\n",
            "[nltk_data]   Package omw-1.4 is already up-to-date!\n"
          ]
        }
      ],
      "source": [
        "import numpy as np \n",
        "import pandas as pd \n",
        "import seaborn as sns\n",
        "import matplotlib.pyplot as plt\n",
        "import os\n",
        "\n",
        "import re\n",
        "import nltk.corpus\n",
        "from nltk.tokenize import word_tokenize\n",
        "from keras.preprocessing.text import Tokenizer\n",
        "from nltk.stem import WordNetLemmatizer\n",
        "from nltk.corpus import stopwords\n",
        "from string import digits\n",
        "nltk.download('stopwords')\n",
        "nltk.download('punkt')\n",
        "nltk.download('wordnet')\n",
        "nltk.download('omw-1.4')\n",
        "\n",
        "import spacy\n",
        "from collections import Counter\n",
        "from string import punctuation\n",
        "\n",
        "from gensim.test.utils import common_texts\n",
        "from gensim.models import Word2Vec\n",
        "from gensim.models import KeyedVectors\n",
        "import gensim.downloader\n",
        "\n",
        "from sklearn.feature_extraction.text import TfidfVectorizer, CountVectorizer\n",
        "from sklearn.decomposition import NMF\n",
        "import sklearn.metrics as metrics\n",
        "\n",
        "import itertools\n",
        "from sklearn.model_selection import train_test_split\n",
        "from tensorflow.keras.preprocessing.sequence import pad_sequences\n",
        "\n",
        "from keras.utils.np_utils import to_categorical\n",
        "from keras.callbacks import EarlyStopping\n",
        "from keras.layers import Dense, Embedding, LSTM, SpatialDropout1D\n",
        "from keras.models import Sequential"
      ]
    },
    {
      "cell_type": "code",
      "execution_count": 49,
      "id": "a3a91799",
      "metadata": {
        "execution": {
          "iopub.execute_input": "2022-06-27T14:39:56.798353Z",
          "iopub.status.busy": "2022-06-27T14:39:56.798016Z",
          "iopub.status.idle": "2022-06-27T14:39:56.956236Z",
          "shell.execute_reply": "2022-06-27T14:39:56.954720Z"
        },
        "papermill": {
          "duration": 0.176462,
          "end_time": "2022-06-27T14:39:56.959843",
          "exception": false,
          "start_time": "2022-06-27T14:39:56.783381",
          "status": "completed"
        },
        "tags": [],
        "id": "a3a91799"
      },
      "outputs": [],
      "source": [
        "#import data\n",
        "train = pd.read_csv('BBC News Train.csv')\n",
        "test = pd.read_csv('BBC News Test.csv')"
      ]
    },
    {
      "cell_type": "markdown",
      "id": "b2e83d7c",
      "metadata": {
        "papermill": {
          "duration": 0.01395,
          "end_time": "2022-06-27T14:39:56.988374",
          "exception": false,
          "start_time": "2022-06-27T14:39:56.974424",
          "status": "completed"
        },
        "tags": [],
        "id": "b2e83d7c"
      },
      "source": [
        "\n",
        "# Exploratory Analysis (EDA)\n"
      ]
    },
    {
      "cell_type": "code",
      "execution_count": 51,
      "id": "e6f7931a",
      "metadata": {
        "_kg_hide-input": true,
        "execution": {
          "iopub.execute_input": "2022-06-27T14:39:57.102532Z",
          "iopub.status.busy": "2022-06-27T14:39:57.101659Z",
          "iopub.status.idle": "2022-06-27T14:39:57.119926Z",
          "shell.execute_reply": "2022-06-27T14:39:57.118283Z"
        },
        "papermill": {
          "duration": 0.036006,
          "end_time": "2022-06-27T14:39:57.123089",
          "exception": false,
          "start_time": "2022-06-27T14:39:57.087083",
          "status": "completed"
        },
        "tags": [],
        "colab": {
          "base_uri": "https://localhost:8080/",
          "height": 423
        },
        "id": "e6f7931a",
        "outputId": "029b5491-678c-448f-d4ea-2f92272a896e"
      },
      "outputs": [
        {
          "output_type": "execute_result",
          "data": {
            "text/plain": [
              "      ArticleId                                               Text  \\\n",
              "0          1833  worldcom ex-boss launches defence lawyers defe...   \n",
              "1           154  german business confidence slides german busin...   \n",
              "2          1101  bbc poll indicates economic gloom citizens in ...   \n",
              "3          1976  lifestyle  governs mobile choice  faster  bett...   \n",
              "4           917  enron bosses in $168m payout eighteen former e...   \n",
              "...         ...                                                ...   \n",
              "1485        857  double eviction from big brother model caprice...   \n",
              "1486        325  dj double act revamp chart show dj duo jk and ...   \n",
              "1487       1590  weak dollar hits reuters revenues at media gro...   \n",
              "1488       1587  apple ipod family expands market apple has exp...   \n",
              "1489        538  santy worm makes unwelcome visit thousands of ...   \n",
              "\n",
              "           Category  \n",
              "0          business  \n",
              "1          business  \n",
              "2          business  \n",
              "3              tech  \n",
              "4          business  \n",
              "...             ...  \n",
              "1485  entertainment  \n",
              "1486  entertainment  \n",
              "1487       business  \n",
              "1488           tech  \n",
              "1489           tech  \n",
              "\n",
              "[1490 rows x 3 columns]"
            ],
            "text/html": [
              "\n",
              "  <div id=\"df-0c1b5a72-97ac-46a5-bd70-ef0a12a1c7f5\">\n",
              "    <div class=\"colab-df-container\">\n",
              "      <div>\n",
              "<style scoped>\n",
              "    .dataframe tbody tr th:only-of-type {\n",
              "        vertical-align: middle;\n",
              "    }\n",
              "\n",
              "    .dataframe tbody tr th {\n",
              "        vertical-align: top;\n",
              "    }\n",
              "\n",
              "    .dataframe thead th {\n",
              "        text-align: right;\n",
              "    }\n",
              "</style>\n",
              "<table border=\"1\" class=\"dataframe\">\n",
              "  <thead>\n",
              "    <tr style=\"text-align: right;\">\n",
              "      <th></th>\n",
              "      <th>ArticleId</th>\n",
              "      <th>Text</th>\n",
              "      <th>Category</th>\n",
              "    </tr>\n",
              "  </thead>\n",
              "  <tbody>\n",
              "    <tr>\n",
              "      <th>0</th>\n",
              "      <td>1833</td>\n",
              "      <td>worldcom ex-boss launches defence lawyers defe...</td>\n",
              "      <td>business</td>\n",
              "    </tr>\n",
              "    <tr>\n",
              "      <th>1</th>\n",
              "      <td>154</td>\n",
              "      <td>german business confidence slides german busin...</td>\n",
              "      <td>business</td>\n",
              "    </tr>\n",
              "    <tr>\n",
              "      <th>2</th>\n",
              "      <td>1101</td>\n",
              "      <td>bbc poll indicates economic gloom citizens in ...</td>\n",
              "      <td>business</td>\n",
              "    </tr>\n",
              "    <tr>\n",
              "      <th>3</th>\n",
              "      <td>1976</td>\n",
              "      <td>lifestyle  governs mobile choice  faster  bett...</td>\n",
              "      <td>tech</td>\n",
              "    </tr>\n",
              "    <tr>\n",
              "      <th>4</th>\n",
              "      <td>917</td>\n",
              "      <td>enron bosses in $168m payout eighteen former e...</td>\n",
              "      <td>business</td>\n",
              "    </tr>\n",
              "    <tr>\n",
              "      <th>...</th>\n",
              "      <td>...</td>\n",
              "      <td>...</td>\n",
              "      <td>...</td>\n",
              "    </tr>\n",
              "    <tr>\n",
              "      <th>1485</th>\n",
              "      <td>857</td>\n",
              "      <td>double eviction from big brother model caprice...</td>\n",
              "      <td>entertainment</td>\n",
              "    </tr>\n",
              "    <tr>\n",
              "      <th>1486</th>\n",
              "      <td>325</td>\n",
              "      <td>dj double act revamp chart show dj duo jk and ...</td>\n",
              "      <td>entertainment</td>\n",
              "    </tr>\n",
              "    <tr>\n",
              "      <th>1487</th>\n",
              "      <td>1590</td>\n",
              "      <td>weak dollar hits reuters revenues at media gro...</td>\n",
              "      <td>business</td>\n",
              "    </tr>\n",
              "    <tr>\n",
              "      <th>1488</th>\n",
              "      <td>1587</td>\n",
              "      <td>apple ipod family expands market apple has exp...</td>\n",
              "      <td>tech</td>\n",
              "    </tr>\n",
              "    <tr>\n",
              "      <th>1489</th>\n",
              "      <td>538</td>\n",
              "      <td>santy worm makes unwelcome visit thousands of ...</td>\n",
              "      <td>tech</td>\n",
              "    </tr>\n",
              "  </tbody>\n",
              "</table>\n",
              "<p>1490 rows × 3 columns</p>\n",
              "</div>\n",
              "      <button class=\"colab-df-convert\" onclick=\"convertToInteractive('df-0c1b5a72-97ac-46a5-bd70-ef0a12a1c7f5')\"\n",
              "              title=\"Convert this dataframe to an interactive table.\"\n",
              "              style=\"display:none;\">\n",
              "        \n",
              "  <svg xmlns=\"http://www.w3.org/2000/svg\" height=\"24px\"viewBox=\"0 0 24 24\"\n",
              "       width=\"24px\">\n",
              "    <path d=\"M0 0h24v24H0V0z\" fill=\"none\"/>\n",
              "    <path d=\"M18.56 5.44l.94 2.06.94-2.06 2.06-.94-2.06-.94-.94-2.06-.94 2.06-2.06.94zm-11 1L8.5 8.5l.94-2.06 2.06-.94-2.06-.94L8.5 2.5l-.94 2.06-2.06.94zm10 10l.94 2.06.94-2.06 2.06-.94-2.06-.94-.94-2.06-.94 2.06-2.06.94z\"/><path d=\"M17.41 7.96l-1.37-1.37c-.4-.4-.92-.59-1.43-.59-.52 0-1.04.2-1.43.59L10.3 9.45l-7.72 7.72c-.78.78-.78 2.05 0 2.83L4 21.41c.39.39.9.59 1.41.59.51 0 1.02-.2 1.41-.59l7.78-7.78 2.81-2.81c.8-.78.8-2.07 0-2.86zM5.41 20L4 18.59l7.72-7.72 1.47 1.35L5.41 20z\"/>\n",
              "  </svg>\n",
              "      </button>\n",
              "      \n",
              "  <style>\n",
              "    .colab-df-container {\n",
              "      display:flex;\n",
              "      flex-wrap:wrap;\n",
              "      gap: 12px;\n",
              "    }\n",
              "\n",
              "    .colab-df-convert {\n",
              "      background-color: #E8F0FE;\n",
              "      border: none;\n",
              "      border-radius: 50%;\n",
              "      cursor: pointer;\n",
              "      display: none;\n",
              "      fill: #1967D2;\n",
              "      height: 32px;\n",
              "      padding: 0 0 0 0;\n",
              "      width: 32px;\n",
              "    }\n",
              "\n",
              "    .colab-df-convert:hover {\n",
              "      background-color: #E2EBFA;\n",
              "      box-shadow: 0px 1px 2px rgba(60, 64, 67, 0.3), 0px 1px 3px 1px rgba(60, 64, 67, 0.15);\n",
              "      fill: #174EA6;\n",
              "    }\n",
              "\n",
              "    [theme=dark] .colab-df-convert {\n",
              "      background-color: #3B4455;\n",
              "      fill: #D2E3FC;\n",
              "    }\n",
              "\n",
              "    [theme=dark] .colab-df-convert:hover {\n",
              "      background-color: #434B5C;\n",
              "      box-shadow: 0px 1px 3px 1px rgba(0, 0, 0, 0.15);\n",
              "      filter: drop-shadow(0px 1px 2px rgba(0, 0, 0, 0.3));\n",
              "      fill: #FFFFFF;\n",
              "    }\n",
              "  </style>\n",
              "\n",
              "      <script>\n",
              "        const buttonEl =\n",
              "          document.querySelector('#df-0c1b5a72-97ac-46a5-bd70-ef0a12a1c7f5 button.colab-df-convert');\n",
              "        buttonEl.style.display =\n",
              "          google.colab.kernel.accessAllowed ? 'block' : 'none';\n",
              "\n",
              "        async function convertToInteractive(key) {\n",
              "          const element = document.querySelector('#df-0c1b5a72-97ac-46a5-bd70-ef0a12a1c7f5');\n",
              "          const dataTable =\n",
              "            await google.colab.kernel.invokeFunction('convertToInteractive',\n",
              "                                                     [key], {});\n",
              "          if (!dataTable) return;\n",
              "\n",
              "          const docLinkHtml = 'Like what you see? Visit the ' +\n",
              "            '<a target=\"_blank\" href=https://colab.research.google.com/notebooks/data_table.ipynb>data table notebook</a>'\n",
              "            + ' to learn more about interactive tables.';\n",
              "          element.innerHTML = '';\n",
              "          dataTable['output_type'] = 'display_data';\n",
              "          await google.colab.output.renderOutput(dataTable, element);\n",
              "          const docLink = document.createElement('div');\n",
              "          docLink.innerHTML = docLinkHtml;\n",
              "          element.appendChild(docLink);\n",
              "        }\n",
              "      </script>\n",
              "    </div>\n",
              "  </div>\n",
              "  "
            ]
          },
          "metadata": {},
          "execution_count": 51
        }
      ],
      "source": [
        "train  #display training data records"
      ]
    },
    {
      "cell_type": "code",
      "execution_count": 52,
      "id": "ce098b06",
      "metadata": {
        "execution": {
          "iopub.execute_input": "2022-06-27T14:39:57.214678Z",
          "iopub.status.busy": "2022-06-27T14:39:57.214334Z",
          "iopub.status.idle": "2022-06-27T14:39:57.233530Z",
          "shell.execute_reply": "2022-06-27T14:39:57.231666Z"
        },
        "papermill": {
          "duration": 0.037849,
          "end_time": "2022-06-27T14:39:57.236967",
          "exception": false,
          "start_time": "2022-06-27T14:39:57.199118",
          "status": "completed"
        },
        "tags": [],
        "id": "ce098b06",
        "outputId": "aab9fbdc-ba06-4025-ac95-54ea3a10fb09",
        "colab": {
          "base_uri": "https://localhost:8080/"
        }
      },
      "outputs": [
        {
          "output_type": "stream",
          "name": "stdout",
          "text": [
            "<class 'pandas.core.frame.DataFrame'>\n",
            "RangeIndex: 1490 entries, 0 to 1489\n",
            "Data columns (total 3 columns):\n",
            " #   Column     Non-Null Count  Dtype \n",
            "---  ------     --------------  ----- \n",
            " 0   ArticleId  1490 non-null   int64 \n",
            " 1   Text       1490 non-null   object\n",
            " 2   Category   1490 non-null   object\n",
            "dtypes: int64(1), object(2)\n",
            "memory usage: 35.0+ KB\n"
          ]
        }
      ],
      "source": [
        "train.info()  #check the type of data, null value counts and number of entries"
      ]
    },
    {
      "cell_type": "code",
      "execution_count": null,
      "id": "ec26a79c",
      "metadata": {
        "_kg_hide-input": true,
        "execution": {
          "iopub.execute_input": "2022-06-27T14:39:57.343789Z",
          "iopub.status.busy": "2022-06-27T14:39:57.343487Z",
          "iopub.status.idle": "2022-06-27T14:39:57.352673Z",
          "shell.execute_reply": "2022-06-27T14:39:57.350945Z"
        },
        "papermill": {
          "duration": 0.026889,
          "end_time": "2022-06-27T14:39:57.355418",
          "exception": false,
          "start_time": "2022-06-27T14:39:57.328529",
          "status": "completed"
        },
        "tags": [],
        "id": "ec26a79c",
        "outputId": "b1370cfd-ee60-4c46-bce9-7fe860a91342"
      },
      "outputs": [
        {
          "data": {
            "text/plain": [
              "array(['business', 'tech', 'politics', 'sport', 'entertainment'],\n",
              "      dtype=object)"
            ]
          },
          "execution_count": 9,
          "metadata": {},
          "output_type": "execute_result"
        }
      ],
      "source": [
        "train['Category'].unique()  #display data labels (Extra)"
      ]
    },
    {
      "cell_type": "code",
      "execution_count": 53,
      "id": "e1d9f2f9",
      "metadata": {
        "execution": {
          "iopub.execute_input": "2022-06-27T14:39:57.875124Z",
          "iopub.status.busy": "2022-06-27T14:39:57.874063Z",
          "iopub.status.idle": "2022-06-27T14:39:57.884676Z",
          "shell.execute_reply": "2022-06-27T14:39:57.883380Z"
        },
        "papermill": {
          "duration": 0.027876,
          "end_time": "2022-06-27T14:39:57.887359",
          "exception": false,
          "start_time": "2022-06-27T14:39:57.859483",
          "status": "completed"
        },
        "tags": [],
        "id": "e1d9f2f9"
      },
      "outputs": [],
      "source": [
        "#data preprocessing\n",
        "\n",
        "def clean_text(dataframe, text_col):\n",
        "\n",
        "    #remove all punctuation\n",
        "    dataframe['no_punct'] = dataframe[text_col].apply(lambda row: re.sub(r'[^\\w\\s]+', '', row))\n",
        "    \n",
        "    #remove numbers \n",
        "    dataframe['no_punct_num'] = dataframe['no_punct'].apply(lambda row: re.sub(r'[0-9]+', '', row))\n",
        "    \n",
        "    #remove stopwords\n",
        "    stop_words = stopwords.words('english')\n",
        "    dataframe['no_stopwords'] = dataframe['no_punct_num'].apply(lambda x: ' '.join([word for word in x.split() if word not in (stop_words)]))\n",
        "    \n",
        "    #remove extra spaces\n",
        "    dataframe['clean_text'] = dataframe['no_stopwords'].apply(lambda x: re.sub(' +', ' ', x))\n",
        "    return \n",
        "\n",
        "clean_text(train, 'Text')"
      ]
    },
    {
      "cell_type": "code",
      "execution_count": 54,
      "id": "3c78b4ad",
      "metadata": {
        "execution": {
          "iopub.execute_input": "2022-06-27T14:39:59.327537Z",
          "iopub.status.busy": "2022-06-27T14:39:59.325627Z",
          "iopub.status.idle": "2022-06-27T14:39:59.335144Z",
          "shell.execute_reply": "2022-06-27T14:39:59.333912Z"
        },
        "papermill": {
          "duration": 0.026742,
          "end_time": "2022-06-27T14:39:59.337788",
          "exception": false,
          "start_time": "2022-06-27T14:39:59.311046",
          "status": "completed"
        },
        "tags": [],
        "id": "3c78b4ad"
      },
      "outputs": [],
      "source": [
        "# tokenize and lemmatize text  \n",
        "\n",
        "wordnet_lemmatizer = WordNetLemmatizer()\n",
        "def lemmatizer(text):\n",
        "    lem = [wordnet_lemmatizer.lemmatize(word.lower()) for word in text] \n",
        "    return lem\n",
        "\n",
        "def tokenize_lemmatize(dataframe, text_col):\n",
        "    dataframe['tokenized'] = dataframe.apply(lambda row: nltk.word_tokenize(row[text_col]), axis=1)\n",
        "    dataframe['lemmatized'] = dataframe['tokenized'].apply(lambda string: lemmatizer(string))\n",
        "    dataframe['num_words'] = dataframe['lemmatized'].apply(lambda lst: len(lst))\n",
        "    return\n",
        "\n",
        "tokenize_lemmatize(train, 'clean_text')"
      ]
    },
    {
      "cell_type": "code",
      "source": [
        "#display final result words for one sample article\n",
        "\n",
        "train['lemmatized'][1]"
      ],
      "metadata": {
        "colab": {
          "base_uri": "https://localhost:8080/"
        },
        "id": "LJPK89neWjE5",
        "outputId": "8a2f1350-8007-4cb5-d242-a42d29881c7a"
      },
      "id": "LJPK89neWjE5",
      "execution_count": 56,
      "outputs": [
        {
          "output_type": "execute_result",
          "data": {
            "text/plain": [
              "['german',\n",
              " 'business',\n",
              " 'confidence',\n",
              " 'slide',\n",
              " 'german',\n",
              " 'business',\n",
              " 'confidence',\n",
              " 'fell',\n",
              " 'february',\n",
              " 'knocking',\n",
              " 'hope',\n",
              " 'speedy',\n",
              " 'recovery',\n",
              " 'europe',\n",
              " 'largest',\n",
              " 'economy',\n",
              " 'munichbased',\n",
              " 'research',\n",
              " 'institute',\n",
              " 'ifo',\n",
              " 'said',\n",
              " 'confidence',\n",
              " 'index',\n",
              " 'fell',\n",
              " 'february',\n",
              " 'january',\n",
              " 'first',\n",
              " 'decline',\n",
              " 'three',\n",
              " 'month',\n",
              " 'study',\n",
              " 'found',\n",
              " 'outlook',\n",
              " 'manufacturing',\n",
              " 'retail',\n",
              " 'sector',\n",
              " 'worsened',\n",
              " 'observer',\n",
              " 'hoping',\n",
              " 'confident',\n",
              " 'business',\n",
              " 'sector',\n",
              " 'would',\n",
              " 'signal',\n",
              " 'economic',\n",
              " 'activity',\n",
              " 'picking',\n",
              " 'surprised',\n",
              " 'ifo',\n",
              " 'index',\n",
              " 'taken',\n",
              " 'knock',\n",
              " 'said',\n",
              " 'dz',\n",
              " 'bank',\n",
              " 'economist',\n",
              " 'bernd',\n",
              " 'weidensteiner',\n",
              " 'main',\n",
              " 'reason',\n",
              " 'probably',\n",
              " 'domestic',\n",
              " 'economy',\n",
              " 'still',\n",
              " 'weak',\n",
              " 'particularly',\n",
              " 'retail',\n",
              " 'trade',\n",
              " 'economy',\n",
              " 'labour',\n",
              " 'minister',\n",
              " 'wolfgang',\n",
              " 'clement',\n",
              " 'called',\n",
              " 'dip',\n",
              " 'february',\n",
              " 'ifo',\n",
              " 'confidence',\n",
              " 'figure',\n",
              " 'mild',\n",
              " 'decline',\n",
              " 'said',\n",
              " 'despite',\n",
              " 'retreat',\n",
              " 'index',\n",
              " 'remained',\n",
              " 'relatively',\n",
              " 'high',\n",
              " 'level',\n",
              " 'expected',\n",
              " 'modest',\n",
              " 'economic',\n",
              " 'upswing',\n",
              " 'continue',\n",
              " 'germany',\n",
              " 'economy',\n",
              " 'grew',\n",
              " 'last',\n",
              " 'year',\n",
              " 'shrinking',\n",
              " 'however',\n",
              " 'economy',\n",
              " 'contracted',\n",
              " 'last',\n",
              " 'three',\n",
              " 'month',\n",
              " 'mainly',\n",
              " 'due',\n",
              " 'reluctance',\n",
              " 'consumer',\n",
              " 'spend',\n",
              " 'latest',\n",
              " 'indication',\n",
              " 'growth',\n",
              " 'still',\n",
              " 'proving',\n",
              " 'elusive',\n",
              " 'ifo',\n",
              " 'president',\n",
              " 'hanswerner',\n",
              " 'sinn',\n",
              " 'said',\n",
              " 'improvement',\n",
              " 'german',\n",
              " 'domestic',\n",
              " 'demand',\n",
              " 'sluggish',\n",
              " 'export',\n",
              " 'kept',\n",
              " 'thing',\n",
              " 'going',\n",
              " 'first',\n",
              " 'half',\n",
              " 'demand',\n",
              " 'export',\n",
              " 'hit',\n",
              " 'value',\n",
              " 'euro',\n",
              " 'hit',\n",
              " 'record',\n",
              " 'level',\n",
              " 'making',\n",
              " 'german',\n",
              " 'product',\n",
              " 'le',\n",
              " 'competitive',\n",
              " 'overseas',\n",
              " 'top',\n",
              " 'unemployment',\n",
              " 'rate',\n",
              " 'stuck',\n",
              " 'close',\n",
              " 'manufacturing',\n",
              " 'firm',\n",
              " 'including',\n",
              " 'daimlerchrysler',\n",
              " 'siemens',\n",
              " 'volkswagen',\n",
              " 'negotiating',\n",
              " 'union',\n",
              " 'cost',\n",
              " 'cutting',\n",
              " 'measure',\n",
              " 'analyst',\n",
              " 'said',\n",
              " 'ifo',\n",
              " 'figure',\n",
              " 'germany',\n",
              " 'continuing',\n",
              " 'problem',\n",
              " 'may',\n",
              " 'delay',\n",
              " 'interest',\n",
              " 'rate',\n",
              " 'rise',\n",
              " 'european',\n",
              " 'central',\n",
              " 'bank',\n",
              " 'eurozone',\n",
              " 'interest',\n",
              " 'rate',\n",
              " 'comment',\n",
              " 'senior',\n",
              " 'official',\n",
              " 'recently',\n",
              " 'focused',\n",
              " 'threat',\n",
              " 'inflation',\n",
              " 'prompting',\n",
              " 'fear',\n",
              " 'interest',\n",
              " 'rate',\n",
              " 'may',\n",
              " 'rise']"
            ]
          },
          "metadata": {},
          "execution_count": 56
        }
      ]
    },
    {
      "cell_type": "markdown",
      "source": [
        "# Feature Extraction\n",
        "\n",
        "Apply feature extraction which helps in finding hot keywords"
      ],
      "metadata": {
        "id": "FZSZQBQ733Gy"
      },
      "id": "FZSZQBQ733Gy"
    },
    {
      "cell_type": "markdown",
      "source": [
        "# - Pos Tagging method"
      ],
      "metadata": {
        "id": "1XLLJgUN4amF"
      },
      "id": "1XLLJgUN4amF"
    },
    {
      "cell_type": "code",
      "source": [
        "'''\n",
        "use pre-trained model which contains such as \n",
        "tokenization, part-of-speech tagging, and more \n",
        "to analyze text\n",
        "'''\n",
        "nlp = spacy.load(\"en_core_web_sm\")\n",
        "\n",
        "def get_hotwords(text):\n",
        "    result = []\n",
        "    pos_tag = ['PROPN', 'ADJ', 'NOUN'] \n",
        "    doc = nlp(text.lower()) \n",
        "    for token in doc:\n",
        "        if(token.text in nlp.Defaults.stop_words or token.text in punctuation):\n",
        "            continue    \n",
        "        if(token.pos_ in pos_tag): #find pos taggs for text \n",
        "            result.append(token.text)\n",
        "    return result\n",
        "\n",
        "\n",
        "output = set(get_hotwords(train['clean_text'][1]))  #get unique value for hot keywords returned from the function\n",
        "\n",
        "most_common_list = Counter(output).most_common(10)  #get most common 10 keywords\n",
        "\n",
        "#display them\n",
        "for item in most_common_list:\n",
        "  print(item[0])"
      ],
      "metadata": {
        "colab": {
          "base_uri": "https://localhost:8080/"
        },
        "id": "3FupU90Ac2e2",
        "outputId": "58e0fbe1-424f-4510-9659-11f782b02109"
      },
      "id": "3FupU90Ac2e2",
      "execution_count": 57,
      "outputs": [
        {
          "output_type": "stream",
          "name": "stdout",
          "text": [
            "confident\n",
            "unions\n",
            "knock\n",
            "unemployment\n",
            "figures\n",
            "wolfgang\n",
            "confidence\n",
            "volkswagen\n",
            "things\n",
            "dip\n"
          ]
        }
      ]
    },
    {
      "cell_type": "markdown",
      "source": [
        "# - Word Embedding method"
      ],
      "metadata": {
        "id": "lzA0GgvO8Hhs"
      },
      "id": "lzA0GgvO8Hhs"
    },
    {
      "cell_type": "code",
      "source": [
        "'''\n",
        "use Word2Vec pre-trained model to represent the words as vectors\n",
        "this method helps us to find the most similar words for a specific word in the atricle \n",
        "'''\n",
        "\n",
        "#apply get word embeddings for one sample article \n",
        "model = gensim.models.Word2Vec([train['tokenized'][1]], size=100, window=5, min_count=1)\n",
        "model.save(\"word2vec.model\")\n",
        "\n",
        "sims = model.wv.most_similar('economy', topn=10)  #display similar words to the word 'economy for example'\n",
        "sims"
      ],
      "metadata": {
        "colab": {
          "base_uri": "https://localhost:8080/"
        },
        "id": "cT1oZcbRdDIO",
        "outputId": "a63cba35-a602-4e8d-f083-aa495713a4cc"
      },
      "id": "cT1oZcbRdDIO",
      "execution_count": 58,
      "outputs": [
        {
          "output_type": "stream",
          "name": "stderr",
          "text": [
            "WARNING:gensim.models.base_any2vec:under 10 jobs per worker: consider setting a smaller `batch_words' for smoother alpha decay\n"
          ]
        },
        {
          "output_type": "execute_result",
          "data": {
            "text/plain": [
              "[('fears', 0.2052503526210785),\n",
              " ('modest', 0.17909425497055054),\n",
              " ('probably', 0.16303302347660065),\n",
              " ('hopes', 0.15738312900066376),\n",
              " ('despite', 0.15249696373939514),\n",
              " ('grew', 0.14367607235908508),\n",
              " ('may', 0.14023339748382568),\n",
              " ('president', 0.13618412613868713),\n",
              " ('less', 0.13561111688613892),\n",
              " ('german', 0.13234589993953705)]"
            ]
          },
          "metadata": {},
          "execution_count": 58
        }
      ]
    },
    {
      "cell_type": "markdown",
      "source": [
        "# - TF-IDF method"
      ],
      "metadata": {
        "id": "lAUSKzlgBVrR"
      },
      "id": "lAUSKzlgBVrR"
    },
    {
      "cell_type": "code",
      "execution_count": 15,
      "id": "6f0cf3cc",
      "metadata": {
        "execution": {
          "iopub.execute_input": "2022-06-27T14:40:07.702374Z",
          "iopub.status.busy": "2022-06-27T14:40:07.701240Z",
          "iopub.status.idle": "2022-06-27T14:40:07.708309Z",
          "shell.execute_reply": "2022-06-27T14:40:07.707131Z"
        },
        "papermill": {
          "duration": 0.025151,
          "end_time": "2022-06-27T14:40:07.710866",
          "exception": false,
          "start_time": "2022-06-27T14:40:07.685715",
          "status": "completed"
        },
        "tags": [],
        "id": "6f0cf3cc"
      },
      "outputs": [],
      "source": [
        "train_df = train.copy()"
      ]
    },
    {
      "cell_type": "code",
      "source": [
        "#create vectorizer\n",
        "tfidvec = TfidfVectorizer(min_df = 2,\n",
        "                          max_df = 0.95,\n",
        "                          norm = 'l2',\n",
        "                          stop_words = 'english')\n",
        "tfidvec_train = tfidvec.fit_transform(train_df['clean_text'])\n"
      ],
      "metadata": {
        "id": "1XXDMDbSY_Su"
      },
      "id": "1XXDMDbSY_Su",
      "execution_count": 70,
      "outputs": []
    },
    {
      "cell_type": "code",
      "source": [
        "feature_names = tfidvec.get_feature_names_out()  #method is used to get the list of terms in the vocabulary\n",
        "\n",
        "top_n = 10 # specify the number of top keywords to extract for each document\n",
        "\n",
        "\n",
        "tfidf_scores = tfidvec_train[1].toarray().flatten()  #use one sample article to get hot keywords from it\n",
        "\n",
        "top_indices = tfidf_scores.argsort()[-top_n:][::-1]  # get indices of top keywords\n",
        "\n",
        "top_keywords = [feature_names[idx] for idx in top_indices]  #get the top keywords\n",
        "\n",
        "print({', '.join(top_keywords)}) #displa them"
      ],
      "metadata": {
        "colab": {
          "base_uri": "https://localhost:8080/"
        },
        "id": "WmXNl-_eBavg",
        "outputId": "99475139-4621-452e-926b-58656c3465d9"
      },
      "id": "WmXNl-_eBavg",
      "execution_count": 75,
      "outputs": [
        {
          "output_type": "stream",
          "name": "stdout",
          "text": [
            "{'german, economy, confidence, index, february, manufacturing, retail, business, decline, exports'}\n"
          ]
        }
      ]
    },
    {
      "cell_type": "markdown",
      "source": [
        "# - NFM Model"
      ],
      "metadata": {
        "id": "__pw3pyiETNy"
      },
      "id": "__pw3pyiETNy"
    },
    {
      "cell_type": "code",
      "execution_count": 82,
      "id": "9d5943dd",
      "metadata": {
        "execution": {
          "iopub.execute_input": "2022-06-27T14:40:07.828869Z",
          "iopub.status.busy": "2022-06-27T14:40:07.827919Z",
          "iopub.status.idle": "2022-06-27T14:40:14.358677Z",
          "shell.execute_reply": "2022-06-27T14:40:14.356949Z"
        },
        "papermill": {
          "duration": 6.550569,
          "end_time": "2022-06-27T14:40:14.362663",
          "exception": false,
          "start_time": "2022-06-27T14:40:07.812094",
          "status": "completed"
        },
        "tags": [],
        "colab": {
          "base_uri": "https://localhost:8080/",
          "height": 92
        },
        "id": "9d5943dd",
        "outputId": "e60989f2-6068-4594-abc8-cc505db9de86"
      },
      "outputs": [
        {
          "output_type": "execute_result",
          "data": {
            "text/plain": [
              "NMF(beta_loss='kullback-leibler', init='nndsvda', l1_ratio=0.5, n_components=5,\n",
              "    random_state=101, solver='mu')"
            ],
            "text/html": [
              "<style>#sk-container-id-4 {color: black;background-color: white;}#sk-container-id-4 pre{padding: 0;}#sk-container-id-4 div.sk-toggleable {background-color: white;}#sk-container-id-4 label.sk-toggleable__label {cursor: pointer;display: block;width: 100%;margin-bottom: 0;padding: 0.3em;box-sizing: border-box;text-align: center;}#sk-container-id-4 label.sk-toggleable__label-arrow:before {content: \"▸\";float: left;margin-right: 0.25em;color: #696969;}#sk-container-id-4 label.sk-toggleable__label-arrow:hover:before {color: black;}#sk-container-id-4 div.sk-estimator:hover label.sk-toggleable__label-arrow:before {color: black;}#sk-container-id-4 div.sk-toggleable__content {max-height: 0;max-width: 0;overflow: hidden;text-align: left;background-color: #f0f8ff;}#sk-container-id-4 div.sk-toggleable__content pre {margin: 0.2em;color: black;border-radius: 0.25em;background-color: #f0f8ff;}#sk-container-id-4 input.sk-toggleable__control:checked~div.sk-toggleable__content {max-height: 200px;max-width: 100%;overflow: auto;}#sk-container-id-4 input.sk-toggleable__control:checked~label.sk-toggleable__label-arrow:before {content: \"▾\";}#sk-container-id-4 div.sk-estimator input.sk-toggleable__control:checked~label.sk-toggleable__label {background-color: #d4ebff;}#sk-container-id-4 div.sk-label input.sk-toggleable__control:checked~label.sk-toggleable__label {background-color: #d4ebff;}#sk-container-id-4 input.sk-hidden--visually {border: 0;clip: rect(1px 1px 1px 1px);clip: rect(1px, 1px, 1px, 1px);height: 1px;margin: -1px;overflow: hidden;padding: 0;position: absolute;width: 1px;}#sk-container-id-4 div.sk-estimator {font-family: monospace;background-color: #f0f8ff;border: 1px dotted black;border-radius: 0.25em;box-sizing: border-box;margin-bottom: 0.5em;}#sk-container-id-4 div.sk-estimator:hover {background-color: #d4ebff;}#sk-container-id-4 div.sk-parallel-item::after {content: \"\";width: 100%;border-bottom: 1px solid gray;flex-grow: 1;}#sk-container-id-4 div.sk-label:hover label.sk-toggleable__label {background-color: #d4ebff;}#sk-container-id-4 div.sk-serial::before {content: \"\";position: absolute;border-left: 1px solid gray;box-sizing: border-box;top: 0;bottom: 0;left: 50%;z-index: 0;}#sk-container-id-4 div.sk-serial {display: flex;flex-direction: column;align-items: center;background-color: white;padding-right: 0.2em;padding-left: 0.2em;position: relative;}#sk-container-id-4 div.sk-item {position: relative;z-index: 1;}#sk-container-id-4 div.sk-parallel {display: flex;align-items: stretch;justify-content: center;background-color: white;position: relative;}#sk-container-id-4 div.sk-item::before, #sk-container-id-4 div.sk-parallel-item::before {content: \"\";position: absolute;border-left: 1px solid gray;box-sizing: border-box;top: 0;bottom: 0;left: 50%;z-index: -1;}#sk-container-id-4 div.sk-parallel-item {display: flex;flex-direction: column;z-index: 1;position: relative;background-color: white;}#sk-container-id-4 div.sk-parallel-item:first-child::after {align-self: flex-end;width: 50%;}#sk-container-id-4 div.sk-parallel-item:last-child::after {align-self: flex-start;width: 50%;}#sk-container-id-4 div.sk-parallel-item:only-child::after {width: 0;}#sk-container-id-4 div.sk-dashed-wrapped {border: 1px dashed gray;margin: 0 0.4em 0.5em 0.4em;box-sizing: border-box;padding-bottom: 0.4em;background-color: white;}#sk-container-id-4 div.sk-label label {font-family: monospace;font-weight: bold;display: inline-block;line-height: 1.2em;}#sk-container-id-4 div.sk-label-container {text-align: center;}#sk-container-id-4 div.sk-container {/* jupyter's `normalize.less` sets `[hidden] { display: none; }` but bootstrap.min.css set `[hidden] { display: none !important; }` so we also need the `!important` here to be able to override the default hidden behavior on the sphinx rendered scikit-learn.org. See: https://github.com/scikit-learn/scikit-learn/issues/21755 */display: inline-block !important;position: relative;}#sk-container-id-4 div.sk-text-repr-fallback {display: none;}</style><div id=\"sk-container-id-4\" class=\"sk-top-container\"><div class=\"sk-text-repr-fallback\"><pre>NMF(beta_loss=&#x27;kullback-leibler&#x27;, init=&#x27;nndsvda&#x27;, l1_ratio=0.5, n_components=5,\n",
              "    random_state=101, solver=&#x27;mu&#x27;)</pre><b>In a Jupyter environment, please rerun this cell to show the HTML representation or trust the notebook. <br />On GitHub, the HTML representation is unable to render, please try loading this page with nbviewer.org.</b></div><div class=\"sk-container\" hidden><div class=\"sk-item\"><div class=\"sk-estimator sk-toggleable\"><input class=\"sk-toggleable__control sk-hidden--visually\" id=\"sk-estimator-id-4\" type=\"checkbox\" checked><label for=\"sk-estimator-id-4\" class=\"sk-toggleable__label sk-toggleable__label-arrow\">NMF</label><div class=\"sk-toggleable__content\"><pre>NMF(beta_loss=&#x27;kullback-leibler&#x27;, init=&#x27;nndsvda&#x27;, l1_ratio=0.5, n_components=5,\n",
              "    random_state=101, solver=&#x27;mu&#x27;)</pre></div></div></div></div></div>"
            ]
          },
          "metadata": {},
          "execution_count": 82
        }
      ],
      "source": [
        "#create model\n",
        "nmf_model = NMF(n_components=5, \n",
        "                init='nndsvda', \n",
        "                solver = 'mu',\n",
        "                beta_loss = 'kullback-leibler',\n",
        "                l1_ratio = 0.5,\n",
        "                random_state = 101)\n",
        "\n",
        "nmf_model.fit(tfidvec_train) #fit the tf-idf feature data to the model"
      ]
    },
    {
      "cell_type": "code",
      "source": [
        "#find hot keywords in the 5 topics \n",
        "for topic_idx, topic in enumerate(nmf_model.components_):\n",
        "    print(\"Topic %d:\" % (topic_idx+1))\n",
        "    print(\" \".join([feature_names[i] for i in topic.argsort()[:-6:-1]]))"
      ],
      "metadata": {
        "colab": {
          "base_uri": "https://localhost:8080/"
        },
        "id": "rBZgy8FYkvP9",
        "outputId": "edb1c00a-0976-456f-ad92-d5d06a6a9a99"
      },
      "id": "rBZgy8FYkvP9",
      "execution_count": 81,
      "outputs": [
        {
          "output_type": "stream",
          "name": "stdout",
          "text": [
            "Topic 1:\n",
            "game england win said cup\n",
            "Topic 2:\n",
            "mr said labour blair election\n",
            "Topic 3:\n",
            "mobile people said software technology\n",
            "Topic 4:\n",
            "film best awards music band\n",
            "Topic 5:\n",
            "bn said growth market economy\n"
          ]
        }
      ]
    },
    {
      "cell_type": "markdown",
      "source": [
        "# - LSTM Model"
      ],
      "metadata": {
        "id": "J1HRqtLDFlhd"
      },
      "id": "J1HRqtLDFlhd"
    },
    {
      "cell_type": "markdown",
      "id": "f8249cf6",
      "metadata": {
        "papermill": {
          "duration": 0.014177,
          "end_time": "2022-06-27T14:40:07.671697",
          "exception": false,
          "start_time": "2022-06-27T14:40:07.657520",
          "status": "completed"
        },
        "tags": [],
        "id": "f8249cf6"
      },
      "source": [
        "\n",
        "Prepare data by handeling the data labels and balance classes, so the data could be ready to be fitted in the models\n",
        "\n"
      ]
    },
    {
      "cell_type": "code",
      "source": [
        "train_df['Category'].value_counts()"
      ],
      "metadata": {
        "colab": {
          "base_uri": "https://localhost:8080/"
        },
        "id": "GxHqJwsopP-K",
        "outputId": "dffefdd4-0a41-4c88-c7ba-cb8a0dfe441f"
      },
      "id": "GxHqJwsopP-K",
      "execution_count": 16,
      "outputs": [
        {
          "output_type": "execute_result",
          "data": {
            "text/plain": [
              "sport            346\n",
              "business         336\n",
              "politics         274\n",
              "entertainment    273\n",
              "tech             261\n",
              "Name: Category, dtype: int64"
            ]
          },
          "metadata": {},
          "execution_count": 16
        }
      ]
    },
    {
      "cell_type": "code",
      "source": [
        "#balanced classes\n",
        "num_of_categories = 45000\n",
        "shuffled = train_df.reindex(np.random.permutation(train_df.index))\n",
        "sport    = shuffled[shuffled['Category'] == 'sport'][:num_of_categories]\n",
        "business = shuffled[shuffled['Category'] == 'business'][:num_of_categories]\n",
        "politics = shuffled[shuffled['Category'] == 'politics'][:num_of_categories]\n",
        "entertainment = shuffled[shuffled['Category'] == 'entertainment'][:num_of_categories]\n",
        "tech = shuffled[shuffled['Category'] == 'tech'][:num_of_categories]\n",
        "concated = pd.concat([sport,business,politics,entertainment,tech], ignore_index=True)\n",
        "#Shuffle the dataset\n",
        "concated = concated.reindex(np.random.permutation(concated.index))\n",
        "concated['LABEL'] = 0"
      ],
      "metadata": {
        "id": "FQNgLlfKpP1R"
      },
      "id": "FQNgLlfKpP1R",
      "execution_count": 59,
      "outputs": []
    },
    {
      "cell_type": "code",
      "source": [
        "#One-hot encode for the labels\n",
        "concated.loc[concated['Category'] == 'sport', 'LABEL'] = 0\n",
        "concated.loc[concated['Category'] == 'business', 'LABEL'] = 1\n",
        "concated.loc[concated['Category'] == 'politics', 'LABEL'] = 2\n",
        "concated.loc[concated['Category'] == 'entertainment', 'LABEL'] = 3\n",
        "concated.loc[concated['Category'] == 'tech', 'LABEL'] = 4\n",
        "print(concated['LABEL'][:10])\n",
        "labels = to_categorical(concated['LABEL'], num_classes=5)\n",
        "print(labels[:10])\n",
        "if 'Category' in concated.keys():\n",
        "    concated.drop(['Category'], axis=1)"
      ],
      "metadata": {
        "colab": {
          "base_uri": "https://localhost:8080/"
        },
        "id": "4-7mj8PypPp3",
        "outputId": "484d6da5-ae7a-4941-8696-3d48f060995c"
      },
      "id": "4-7mj8PypPp3",
      "execution_count": 60,
      "outputs": [
        {
          "output_type": "stream",
          "name": "stdout",
          "text": [
            "958     3\n",
            "1242    4\n",
            "65      0\n",
            "269     0\n",
            "1444    4\n",
            "784     2\n",
            "828     2\n",
            "594     1\n",
            "260     0\n",
            "791     2\n",
            "Name: LABEL, dtype: int64\n",
            "[[0. 0. 0. 1. 0.]\n",
            " [0. 0. 0. 0. 1.]\n",
            " [1. 0. 0. 0. 0.]\n",
            " [1. 0. 0. 0. 0.]\n",
            " [0. 0. 0. 0. 1.]\n",
            " [0. 0. 1. 0. 0.]\n",
            " [0. 0. 1. 0. 0.]\n",
            " [0. 1. 0. 0. 0.]\n",
            " [1. 0. 0. 0. 0.]\n",
            " [0. 0. 1. 0. 0.]]\n"
          ]
        }
      ]
    },
    {
      "cell_type": "code",
      "source": [
        "#tokenize the cleaned text and  \n",
        "n_most_common_words = 8000\n",
        "max_len = 130\n",
        "tokenizer = Tokenizer(num_words=n_most_common_words, filters='!\"#$%&()*+,-./:;<=>?@[\\]^_`{|}~', lower=True)\n",
        "tokenizer.fit_on_texts(concated['clean_text'].values)\n",
        "sequences = tokenizer.texts_to_sequences(concated['clean_text'].values)\n",
        "word_index = tokenizer.word_index\n",
        "print('Found %s unique tokens.' % len(word_index))\n",
        "\n",
        "X = pad_sequences(sequences, maxlen=max_len) #pad the sequences with the same length to fit in the model"
      ],
      "metadata": {
        "colab": {
          "base_uri": "https://localhost:8080/"
        },
        "id": "wnMgd-r9pp4M",
        "outputId": "49eb2a4a-f2b1-4901-9d2b-7e84ccd0b2f0"
      },
      "id": "wnMgd-r9pp4M",
      "execution_count": 61,
      "outputs": [
        {
          "output_type": "stream",
          "name": "stdout",
          "text": [
            "Found 25231 unique tokens.\n"
          ]
        }
      ]
    },
    {
      "cell_type": "code",
      "source": [
        "#split the data into train and test so the model can be trained better\n",
        "\n",
        "X_train, X_test, y_train, y_test = train_test_split(X , labels, test_size=0.25, random_state=42)"
      ],
      "metadata": {
        "id": "UNN8r5L2rsUc"
      },
      "id": "UNN8r5L2rsUc",
      "execution_count": 62,
      "outputs": []
    },
    {
      "cell_type": "code",
      "source": [
        "#intialize hyperparameters with random values \n",
        "epochs = 30\n",
        "emb_dim = 128\n",
        "batch_size = 64"
      ],
      "metadata": {
        "id": "Qt3X04B3nROu"
      },
      "id": "Qt3X04B3nROu",
      "execution_count": 64,
      "outputs": []
    },
    {
      "cell_type": "code",
      "source": [
        "#build a sequential DL model  \n",
        "model = Sequential()\n",
        "model.add(Embedding(n_most_common_words, emb_dim, input_length=X.shape[1]))\n",
        "model.add(SpatialDropout1D(0.7))\n",
        "model.add(LSTM(64, dropout=0.7, recurrent_dropout=0.7))\n",
        "model.add(Dense(5, activation='softmax'))"
      ],
      "metadata": {
        "id": "ggpk9I56rsD4"
      },
      "id": "ggpk9I56rsD4",
      "execution_count": 65,
      "outputs": []
    },
    {
      "cell_type": "code",
      "source": [
        "model.compile(optimizer='adam', loss='categorical_crossentropy', metrics=['acc'])"
      ],
      "metadata": {
        "id": "JQVGcbmkr6eW"
      },
      "id": "JQVGcbmkr6eW",
      "execution_count": 66,
      "outputs": []
    },
    {
      "cell_type": "code",
      "source": [
        "history = model.fit(X_train, y_train, \n",
        "                    epochs=epochs, \n",
        "                    batch_size=batch_size,\n",
        "                    validation_split=0.2,\n",
        "                    callbacks=[EarlyStopping(monitor='val_loss',patience=7, min_delta=0.01)])"
      ],
      "metadata": {
        "colab": {
          "base_uri": "https://localhost:8080/"
        },
        "id": "AS0CMDXgr6YZ",
        "outputId": "4274ea86-99e5-44f5-df2d-dfdbb99fe948"
      },
      "id": "AS0CMDXgr6YZ",
      "execution_count": 38,
      "outputs": [
        {
          "output_type": "stream",
          "name": "stdout",
          "text": [
            "Epoch 1/30\n",
            "14/14 [==============================] - 11s 464ms/step - loss: 1.6070 - acc: 0.2419 - val_loss: 1.6008 - val_acc: 0.2589\n",
            "Epoch 2/30\n",
            "14/14 [==============================] - 4s 312ms/step - loss: 1.5896 - acc: 0.2856 - val_loss: 1.5902 - val_acc: 0.3304\n",
            "Epoch 3/30\n",
            "14/14 [==============================] - 4s 313ms/step - loss: 1.5463 - acc: 0.3471 - val_loss: 1.3281 - val_acc: 0.4509\n",
            "Epoch 4/30\n",
            "14/14 [==============================] - 6s 391ms/step - loss: 1.3658 - acc: 0.4267 - val_loss: 1.2684 - val_acc: 0.4464\n",
            "Epoch 5/30\n",
            "14/14 [==============================] - 4s 324ms/step - loss: 1.1497 - acc: 0.4681 - val_loss: 1.0920 - val_acc: 0.4152\n",
            "Epoch 6/30\n",
            "14/14 [==============================] - 6s 400ms/step - loss: 1.0264 - acc: 0.4849 - val_loss: 0.9924 - val_acc: 0.4554\n",
            "Epoch 7/30\n",
            "14/14 [==============================] - 4s 322ms/step - loss: 0.9430 - acc: 0.5465 - val_loss: 0.9759 - val_acc: 0.4598\n",
            "Epoch 8/30\n",
            "14/14 [==============================] - 4s 323ms/step - loss: 0.8688 - acc: 0.6439 - val_loss: 0.8954 - val_acc: 0.5759\n",
            "Epoch 9/30\n",
            "14/14 [==============================] - 8s 586ms/step - loss: 0.7773 - acc: 0.6865 - val_loss: 0.8567 - val_acc: 0.5938\n",
            "Epoch 10/30\n",
            "14/14 [==============================] - 4s 311ms/step - loss: 0.6855 - acc: 0.7469 - val_loss: 1.0380 - val_acc: 0.5045\n",
            "Epoch 11/30\n",
            "14/14 [==============================] - 6s 418ms/step - loss: 0.6456 - acc: 0.7749 - val_loss: 0.7919 - val_acc: 0.7009\n",
            "Epoch 12/30\n",
            "14/14 [==============================] - 4s 320ms/step - loss: 0.6173 - acc: 0.7772 - val_loss: 0.5895 - val_acc: 0.7723\n",
            "Epoch 13/30\n",
            "14/14 [==============================] - 5s 333ms/step - loss: 0.4969 - acc: 0.8365 - val_loss: 0.5763 - val_acc: 0.7812\n",
            "Epoch 14/30\n",
            "14/14 [==============================] - 8s 570ms/step - loss: 0.3910 - acc: 0.8779 - val_loss: 0.6046 - val_acc: 0.7545\n",
            "Epoch 15/30\n",
            "14/14 [==============================] - 8s 557ms/step - loss: 0.3768 - acc: 0.8869 - val_loss: 0.5055 - val_acc: 0.7991\n",
            "Epoch 16/30\n",
            "14/14 [==============================] - 4s 304ms/step - loss: 0.3502 - acc: 0.8981 - val_loss: 0.5171 - val_acc: 0.8348\n",
            "Epoch 17/30\n",
            "14/14 [==============================] - 5s 382ms/step - loss: 0.3135 - acc: 0.9227 - val_loss: 0.4253 - val_acc: 0.8304\n",
            "Epoch 18/30\n",
            "14/14 [==============================] - 7s 456ms/step - loss: 0.2375 - acc: 0.9295 - val_loss: 0.5748 - val_acc: 0.7991\n",
            "Epoch 19/30\n",
            "14/14 [==============================] - 5s 325ms/step - loss: 0.2344 - acc: 0.9261 - val_loss: 0.3928 - val_acc: 0.8705\n",
            "Epoch 20/30\n",
            "14/14 [==============================] - 6s 416ms/step - loss: 0.2126 - acc: 0.9440 - val_loss: 0.2652 - val_acc: 0.9107\n",
            "Epoch 21/30\n",
            "14/14 [==============================] - 4s 311ms/step - loss: 0.1544 - acc: 0.9664 - val_loss: 0.7914 - val_acc: 0.7857\n",
            "Epoch 22/30\n",
            "14/14 [==============================] - 5s 356ms/step - loss: 0.2662 - acc: 0.9082 - val_loss: 0.3341 - val_acc: 0.8795\n",
            "Epoch 23/30\n",
            "14/14 [==============================] - 5s 350ms/step - loss: 0.1693 - acc: 0.9731 - val_loss: 0.4111 - val_acc: 0.8973\n",
            "Epoch 24/30\n",
            "14/14 [==============================] - 4s 309ms/step - loss: 0.1127 - acc: 0.9821 - val_loss: 0.4826 - val_acc: 0.8795\n",
            "Epoch 25/30\n",
            "14/14 [==============================] - 6s 413ms/step - loss: 0.0978 - acc: 0.9821 - val_loss: 0.2182 - val_acc: 0.9420\n",
            "Epoch 26/30\n",
            "14/14 [==============================] - 4s 302ms/step - loss: 0.0625 - acc: 0.9877 - val_loss: 0.2935 - val_acc: 0.9330\n",
            "Epoch 27/30\n",
            "14/14 [==============================] - 5s 326ms/step - loss: 0.1017 - acc: 0.9720 - val_loss: 0.2148 - val_acc: 0.9464\n",
            "Epoch 28/30\n",
            "14/14 [==============================] - 6s 400ms/step - loss: 0.0557 - acc: 0.9933 - val_loss: 0.2332 - val_acc: 0.9509\n",
            "Epoch 29/30\n",
            "14/14 [==============================] - 6s 445ms/step - loss: 0.0499 - acc: 0.9910 - val_loss: 0.2815 - val_acc: 0.9241\n",
            "Epoch 30/30\n",
            "14/14 [==============================] - 5s 401ms/step - loss: 0.0447 - acc: 0.9933 - val_loss: 0.2854 - val_acc: 0.9330\n"
          ]
        }
      ]
    },
    {
      "cell_type": "code",
      "execution_count": 46,
      "id": "d161a6d9",
      "metadata": {
        "execution": {
          "iopub.execute_input": "2022-06-27T14:40:07.742179Z",
          "iopub.status.busy": "2022-06-27T14:40:07.740948Z",
          "iopub.status.idle": "2022-06-27T14:40:07.749506Z",
          "shell.execute_reply": "2022-06-27T14:40:07.748267Z"
        },
        "papermill": {
          "duration": 0.027055,
          "end_time": "2022-06-27T14:40:07.752404",
          "exception": false,
          "start_time": "2022-06-27T14:40:07.725349",
          "status": "completed"
        },
        "tags": [],
        "id": "d161a6d9",
        "colab": {
          "base_uri": "https://localhost:8080/"
        },
        "outputId": "a174709a-bba3-4da3-9102-0ef0f81398af"
      },
      "outputs": [
        {
          "output_type": "stream",
          "name": "stdout",
          "text": [
            "['said', 'mr', 'would', 'also', 'new', 'people', 'us', 'year', 'one', 'could', 'first', 'last', 'two', 'world', 'uk', 'time', 'government', 'years', 'film', 'bn', 'best', 'make', 'told', 'get', 'made', 'many', 'game', 'three', 'number', 'like', 'music', 'next', 'labour', 'back', 'bbc', 'set', 'may', 'take', 'well', 'added', 'way', 'market', 'says', 'good', 'home', 'election', 'england', 'firm', 'still', 'win', 'company', 'blair', 'use', 'show', 'going', 'since', 'say', 'week', 'games', 'party', 'work', 'top', 'million', 'go', 'much', 'play', 'want', 'mobile', 'minister', 'second', 'part', 'used', 'public', 'think', 'see', 'british', 'even', 'group', 'players', 'country', 'end', 'european', 'technology', 'plans', 'however', 'expected', 'news', 'sales', 'put', 'service', 'tv', 'brown', 'already', 'five', 'months', 'london', 'growth', 'net', 'six', 'former', 'four', 'deal', 'tax', 'britain', 'director', 'economy', 'services', 'help', 'come', 'money', 'big', 'according', 'chief', 'record', 'international', 'digital', 'right', 'users', 'software', 'including', 'place', 'phone', 'around', 'companies', 'need', 'europe', 'report']\n"
          ]
        }
      ],
      "source": [
        "max_words = 10000\n",
        "# Extract the relevant words using LSTM weights\n",
        "weights = model.layers[0].get_weights()[0]  # get the weights of the LSTM layer\n",
        "keywords = []\n",
        "\n",
        "for word, idx in word_index.items():\n",
        "    if idx < max_words and idx < len(weights[0]):  # only consider the top max_words words\n",
        "        vec = np.expand_dims(weights[:, idx], axis=1)\n",
        "        score = np.dot(vec.T, weights).squeeze()\n",
        "        if score.any() > 0.5:  # set a threshold to determine if the word is relevant\n",
        "            keywords.append(word)\n",
        "\n",
        "print(keywords)\n"
      ]
    }
  ],
  "metadata": {
    "kernelspec": {
      "display_name": "Python 3",
      "language": "python",
      "name": "python3"
    },
    "language_info": {
      "codemirror_mode": {
        "name": "ipython",
        "version": 3
      },
      "file_extension": ".py",
      "mimetype": "text/x-python",
      "name": "python",
      "nbconvert_exporter": "python",
      "pygments_lexer": "ipython3",
      "version": "3.7.12"
    },
    "papermill": {
      "default_parameters": {},
      "duration": 39.703903,
      "end_time": "2022-06-27T14:40:23.903158",
      "environment_variables": {},
      "exception": null,
      "input_path": "__notebook__.ipynb",
      "output_path": "__notebook__.ipynb",
      "parameters": {},
      "start_time": "2022-06-27T14:39:44.199255",
      "version": "2.3.4"
    },
    "colab": {
      "provenance": []
    }
  },
  "nbformat": 4,
  "nbformat_minor": 5
}